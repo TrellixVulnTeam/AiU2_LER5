{
 "cells": [
  {
   "cell_type": "code",
   "execution_count": 1,
   "metadata": {
    "collapsed": false
   },
   "outputs": [],
   "source": [
    "# Importing packages\n",
    "from __future__ import print_function\n",
    "\n",
    "import numpy as np\n",
    "import matplotlib.pyplot as plt\n",
    "\n",
    "import lime\n",
    "\n",
    "import sklearn.ensemble\n",
    "import sklearn.metrics\n",
    "\n",
    "import sklearn\n",
    "from sklearn.feature_extraction import text"
   ]
  },
  {
   "cell_type": "markdown",
   "metadata": {},
   "source": [
    "### fetch_20newsgroups() connects to online repository to download from (~18000) newsletters on 20 different topics."
   ]
  },
  {
   "cell_type": "code",
   "execution_count": 2,
   "metadata": {
    "collapsed": false
   },
   "outputs": [
    {
     "name": "stdout",
     "output_type": "stream",
     "text": [
      "From: jkellett@netcom.com (Joe Kellett)\n",
      "Subject: Re: Hell\n",
      "Organization: Netcom\n",
      "Lines: 17\n",
      "\n",
      "In article <Apr.10.05.33.44.1993.14422@athos.rutgers.edu> mcovingt@aisun3.ai.uga.edu (Michael Covington) writes:\n",
      ">\n",
      ">In a short poem (\"God in His mercy made / the fixed pains of Hell\"),\n",
      ">C. S. Lewis expresses an idea that I'm sure was current among others,\n",
      ">but I haven't be able to find its source:\n",
      ">\n",
      ">that even Hell is an expression of mercy, because God limits the amount\n",
      ">of separation from Him, and hence the amount of agony, that one can\n",
      ">achieve.\n",
      ">\n",
      "\n",
      "I have also heard it called an expression of mercy, because Heaven would be\n",
      "far more agonizing for those who had rejected God.\n",
      "\n",
      "-- \n",
      "Joe Kellett\n",
      "jkellett@netcom.com\n",
      "\n"
     ]
    }
   ],
   "source": [
    "from sklearn.datasets import fetch_20newsgroups\n",
    "# for this example, we need just two topics: alt.atheism, soc.religion.christianity\n",
    "categories = ['alt.atheism', 'soc.religion.christian']\n",
    "\n",
    "# The data is stored as already divided into subsets: 'train' and 'test'\n",
    "# fetch_20newsgroups() supports fetching the data from individual subsets for specific categories\n",
    "\n",
    "newsgroups_train = fetch_20newsgroups(\n",
    "    data_home='.', subset='train', categories=categories)   # Get 'train' data rows for atheism and christianity categories\n",
    "newsgroups_test = fetch_20newsgroups(\n",
    "    data_home='.', subset='test', categories=categories)    # Get 'test' data rows for atheism and christianity categories\n",
    "\n",
    "print (newsgroups_train.data[49])"
   ]
  },
  {
   "cell_type": "code",
   "execution_count": 3,
   "metadata": {
    "collapsed": false
   },
   "outputs": [],
   "source": [
    "# Use tf-idf vectorizer, commonly used for text.\n",
    "vectorizer = sklearn.feature_extraction.text.TfidfVectorizer(\n",
    "    lowercase=True, stop_words=text.ENGLISH_STOP_WORDS)\n",
    "\n",
    "# Learn vocab, tokenize raw text, encode and create a term-matrix for words in 'train' data\n",
    "train_vectors = vectorizer.fit_transform(newsgroups_train.data) \n",
    "\n",
    "# tokenize raw text, encode and create a term-matrix for words in 'test' data\n",
    "test_vectors = vectorizer.transform(newsgroups_test.data)       "
   ]
  },
  {
   "cell_type": "code",
   "execution_count": 5,
   "metadata": {
    "collapsed": false
   },
   "outputs": [
    {
     "name": "stdout",
     "output_type": "stream",
     "text": [
      "F1 score of the RandomForest model:  0.9339622641509434\n"
     ]
    }
   ],
   "source": [
    "# Use Random forest for training the model\n",
    "rf = sklearn.ensemble.RandomForestClassifier(n_estimators=500)\n",
    "# Provide train data and train labels (target/outcome)\n",
    "rf.fit(train_vectors, newsgroups_train.target)                  \n",
    "\n",
    "# Model is trained, make predictions on test data using the trained model.\n",
    "pred = rf.predict(test_vectors)\n",
    "\n",
    "# Compute F-score i.e., quality metric showing the accuracy level.\n",
    "print (\"F1 score of the RandomForest model: \", \n",
    "       sklearn.metrics.f1_score(newsgroups_test.target, pred, average='binary'))"
   ]
  },
  {
   "cell_type": "code",
   "execution_count": 6,
   "metadata": {
    "collapsed": false
   },
   "outputs": [
    {
     "name": "stdout",
     "output_type": "stream",
     "text": [
      "Test sample: \n",
      " From: mayne@pipe.cs.fsu.edu (William Mayne)\n",
      "Subject: Re: Christian Morality is\n",
      "Organization: Florida State University Computer Science Department\n",
      "Reply-To: mayne@cs.fsu.edu\n",
      "Lines: 15\n",
      "\n",
      "In article <1993Apr21.184959.9451@dcs.warwick.ac.uk> simon@dcs.warwick.ac.uk (Simon Clippingdale) writes:\n",
      ">\n",
      ">Dan, I'm concerned that you are in grave spiritual danger because of your\n",
      ">stubborn refusal to love and accept into your heart the Mighty Invisible\n",
      ">Pink Unicorn...[Nice parody deleted.]\n",
      "\n",
      ">I shall pray for you. In fact, brother, I cast out the demon which binds you\n",
      ">in the Name of the Mighty Invisible Pink Unicorn. Dan, you must have *faith*!\n",
      "\n",
      "Then you better pray for me, too, because I believe that the Mighty\n",
      "Invisibile Pink Unicorn does not exist. One being cannot be both \"Pink\"\n",
      "and \"Invisible.\" The demon (or should that be daemon?) that keeps me\n",
      "from believing and saving my soul is named Logic.\n",
      "\n",
      "Bill Mayne\n",
      "\n"
     ]
    }
   ],
   "source": [
    "# Create a pipeline of vectorizer and trained model;\n",
    "# The pipeline can take any sample row (newletter text) as input \n",
    "# and compute probablities of each category ('atheism', 'christianity') for the input sample\n",
    "from sklearn.pipeline import make_pipeline\n",
    "c = make_pipeline(vectorizer, rf)\n",
    "\n",
    "# Choose a random sample input \n",
    "idx = 80\n",
    "print (\"Test sample: \\n\", newsgroups_test.data[idx])"
   ]
  },
  {
   "cell_type": "code",
   "execution_count": 7,
   "metadata": {
    "collapsed": false
   },
   "outputs": [
    {
     "data": {
      "text/plain": [
       "array([[0., 0., 0., ..., 0., 0., 0.]])"
      ]
     },
     "execution_count": 7,
     "metadata": {},
     "output_type": "execute_result"
    }
   ],
   "source": [
    "test_sample_vector = vectorizer.transform([newsgroups_test.data[idx]])\n",
    "test_sample_vector.toarray()"
   ]
  },
  {
   "cell_type": "code",
   "execution_count": 8,
   "metadata": {
    "collapsed": false
   },
   "outputs": [
    {
     "name": "stdout",
     "output_type": "stream",
     "text": [
      "For chosen sample, model prediction:[atheism = 42.80 %, christian = 57.20 %]\n",
      "Actual class: alt.atheism\n"
     ]
    }
   ],
   "source": [
    "print('For chosen sample, model prediction:[atheism = %.2f %%, christian = %.2f %%]' \n",
    "      %(c.predict_proba([newsgroups_test.data[idx]])[0,0]*100, \n",
    "        c.predict_proba([newsgroups_test.data[idx]])[0,1]*100))\n",
    "print('Actual class: %s' \n",
    "      % categories[newsgroups_test.target[idx]])"
   ]
  },
  {
   "cell_type": "markdown",
   "metadata": {},
   "source": [
    "# Using LIME to explain/test predictions"
   ]
  },
  {
   "cell_type": "code",
   "execution_count": 9,
   "metadata": {
    "collapsed": false
   },
   "outputs": [
    {
     "name": "stdout",
     "output_type": "stream",
     "text": [
      "LIME explanations for the sample: \n"
     ]
    },
    {
     "data": {
      "text/plain": [
       "[('Morality', -0.11445200726633518),\n",
       " ('article', -0.06942075889234677),\n",
       " ('writes', -0.06459481295269347),\n",
       " ('faith', 0.025348844880608224),\n",
       " ('uk', -0.02532522107447205),\n",
       " ('edu', -0.02029597997781763)]"
      ]
     },
     "execution_count": 9,
     "metadata": {},
     "output_type": "execute_result"
    }
   ],
   "source": [
    "from lime import lime_text\n",
    "# get an explainer object\n",
    "from lime.lime_text import LimeTextExplainer\n",
    "import re\n",
    "\n",
    "tokenizer = lambda doc: re.compile(r\"(?u)\\b\\w\\w+\\b\").findall(doc)\n",
    "class_names = ['atheism', 'christian']\n",
    "explainer = LimeTextExplainer(class_names=class_names,\n",
    "                              split_expression=tokenizer)\n",
    "# Generate an explanation for it (with at most 6 features \n",
    "# i.e., top 6 words deciding the classification) \n",
    "exp = explainer.explain_instance(newsgroups_test.data[idx],\n",
    "                                 c.predict_proba, num_features=6)\n",
    "\n",
    "# explanation is presented as a list of weighted features.\n",
    "# These weighted features are a linear model,\n",
    "# which approximates behaviour of the random forest classifier\n",
    "# in the vicinity of the test example.\n",
    "print ('LIME explanations for the sample: ')\n",
    "exp.as_list()"
   ]
  },
  {
   "cell_type": "code",
   "execution_count": 10,
   "metadata": {
    "collapsed": false
   },
   "outputs": [
    {
     "data": {
      "image/png": "[encoded data removed]",
      "text/plain": [
       "<Figure size 432x288 with 1 Axes>"
      ]
     },
     "metadata": {
      "needs_background": "light"
     },
     "output_type": "display_data"
    }
   ],
   "source": [
    "exp.as_pyplot_figure()\n",
    "plt.show()"
   ]
  },
  {
   "cell_type": "markdown",
   "metadata": {},
   "source": [
    "# The words from the newsletter Header/footer fields have also contributed to predicted category, whereas they should not !!\n",
    "\n",
    "# Lets fix the sample text by omiting Header, footer, quote fields"
   ]
  },
  {
   "cell_type": "code",
   "execution_count": 11,
   "metadata": {
    "collapsed": false
   },
   "outputs": [
    {
     "name": "stdout",
     "output_type": "stream",
     "text": [
      "\n",
      "\n",
      "Then you better pray for me, too, because I believe that the Mighty\n",
      "Invisibile Pink Unicorn does not exist. One being cannot be both \"Pink\"\n",
      "and \"Invisible.\" The demon (or should that be daemon?) that keeps me\n",
      "from believing and saving my soul is named Logic.\n"
     ]
    }
   ],
   "source": [
    "newsgroups_train_fixed = fetch_20newsgroups (subset='train', remove=('headers', 'footers', 'quotes'), categories=categories)\n",
    "newsgroups_test_fixed = fetch_20newsgroups (subset='test', remove=('headers', 'footers', 'quotes'), categories=categories)\n",
    "\n",
    "train_vectors_fixed = vectorizer.transform (newsgroups_train_fixed.data)\n",
    "test_vectors_fixed = vectorizer.transform (newsgroups_test_fixed.data)\n",
    "\n",
    "# Use Random forest for training the model\n",
    "rf = sklearn.ensemble.RandomForestClassifier(n_estimators=500)\n",
    "rf.fit(train_vectors_fixed, newsgroups_train_fixed.target)              \n",
    "\n",
    "print (newsgroups_test_fixed.data [idx])"
   ]
  },
  {
   "cell_type": "code",
   "execution_count": 12,
   "metadata": {
    "collapsed": false
   },
   "outputs": [
    {
     "name": "stdout",
     "output_type": "stream",
     "text": [
      "\n",
      "F1 score (after fixing data):  0.7995169082125603\n"
     ]
    }
   ],
   "source": [
    "# Model is trained, make predictions on test data using the trained model.\n",
    "pred = rf.predict(test_vectors_fixed)\n",
    "\n",
    "# Compute F-score i.e., quality metric showing the accuracy level.\n",
    "print (\"\\nF1 score (after fixing data): \", sklearn.metrics.f1_score(newsgroups_test_fixed.target, pred, average='binary'))"
   ]
  },
  {
   "cell_type": "code",
   "execution_count": 13,
   "metadata": {
    "collapsed": false
   },
   "outputs": [
    {
     "name": "stdout",
     "output_type": "stream",
     "text": [
      "After removing fields, probabilities: ['aethism': 58.90 %, 'christianity': 41.10 %]\n"
     ]
    }
   ],
   "source": [
    "# After removing spurious features, predicted probabilities (atheism, christian) by trained model\n",
    "print(\"After removing fields, probabilities: ['aethism': %.2f %%, 'christianity': %.2f %%]\" \n",
    "      %(rf.predict_proba(test_vectors_fixed[idx])[0,0]*100,\n",
    "        rf.predict_proba(test_vectors_fixed[idx])[0,1]*100))"
   ]
  },
  {
   "cell_type": "code",
   "execution_count": 14,
   "metadata": {
    "collapsed": false
   },
   "outputs": [
    {
     "data": {
      "text/plain": [
       "[('believing', -0.04265524820492573),\n",
       " ('Pink', -0.034019564581358804),\n",
       " ('exist', -0.013316131761118953),\n",
       " ('Unicorn', -0.010135706050253063),\n",
       " ('better', -0.009716611208749575),\n",
       " ('keeps', -0.008014986785662889)]"
      ]
     },
     "execution_count": 14,
     "metadata": {},
     "output_type": "execute_result"
    }
   ],
   "source": [
    "exp = explainer.explain_instance(newsgroups_test_fixed.data[idx],\n",
    "                                 c.predict_proba, num_features=6)\n",
    "# After removing spurious features, LIME explanations\n",
    "exp.as_list()"
   ]
  },
  {
   "cell_type": "code",
   "execution_count": 15,
   "metadata": {
    "collapsed": false
   },
   "outputs": [
    {
     "data": {
      "image/png": "[encoded data removed]",
      "text/plain": [
       "<Figure size 432x288 with 1 Axes>"
      ]
     },
     "metadata": {
      "needs_background": "light"
     },
     "output_type": "display_data"
    }
   ],
   "source": [
    "exp.as_pyplot_figure()\n",
    "plt.show()"
   ]
  }
 ],
 "metadata": {
  "kernelspec": {
   "display_name": "Python 3",
   "language": "python",
   "name": "python3"
  },
  "language_info": {
   "codemirror_mode": {
    "name": "ipython",
    "version": 3
   },
   "file_extension": ".py",
   "mimetype": "text/x-python",
   "name": "python",
   "nbconvert_exporter": "python",
   "pygments_lexer": "ipython3",
   "version": "3.6.7"
  }
 },
 "nbformat": 4,
 "nbformat_minor": 2
}
