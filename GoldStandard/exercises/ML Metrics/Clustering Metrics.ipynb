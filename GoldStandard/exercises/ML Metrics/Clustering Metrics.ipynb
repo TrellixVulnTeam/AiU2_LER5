{
 "cells": [
  {
   "cell_type": "code",
   "execution_count": 1,
   "metadata": {
    "colab": {},
    "colab_type": "code",
    "collapsed": true,
    "id": "p8BpFLYGNVlP"
   },
   "outputs": [],
   "source": [
    "#Python Notebook illustrating Clustering \n",
    "#importing the Libraries\n",
    "import numpy as np \n",
    "import pandas as pd\n",
    "import matplotlib.pyplot as plt"
   ]
  },
  {
   "cell_type": "code",
   "execution_count": 2,
   "metadata": {
    "colab": {},
    "colab_type": "code",
    "collapsed": false,
    "id": "BInKC6cnNVlZ"
   },
   "outputs": [],
   "source": [
    "#importing the dataset\n",
    "dataset = pd.read_csv(\"RetailData.csv\")\n",
    "\n",
    "# Column Qty and Rate used for purpose of clustering\n",
    "\n",
    "X = dataset.iloc[:, [7,11]].values\n"
   ]
  },
  {
   "cell_type": "code",
   "execution_count": 3,
   "metadata": {
    "colab": {
     "base_uri": "https://localhost:8080/",
     "height": 212
    },
    "colab_type": "code",
    "collapsed": false,
    "executionInfo": {
     "elapsed": 1119,
     "status": "ok",
     "timestamp": 1550824232845,
     "user": {
      "displayName": "Saurabh Bansal",
      "photoUrl": "",
      "userId": "16730173580197411311"
     },
     "user_tz": -330
    },
    "id": "XnyclT0NNVlc",
    "outputId": "c51c8089-3a7d-47de-f5ba-7712300e553f"
   },
   "outputs": [
    {
     "name": "stdout",
     "output_type": "stream",
     "text": [
      "dataset size: [ 1238 rows, 14 columns]\n"
     ]
    },
    {
     "data": {
      "text/html": [
       "<div>\n",
       "<style scoped>\n",
       "    .dataframe tbody tr th:only-of-type {\n",
       "        vertical-align: middle;\n",
       "    }\n",
       "\n",
       "    .dataframe tbody tr th {\n",
       "        vertical-align: top;\n",
       "    }\n",
       "\n",
       "    .dataframe thead th {\n",
       "        text-align: right;\n",
       "    }\n",
       "</style>\n",
       "<table border=\"1\" class=\"dataframe\">\n",
       "  <thead>\n",
       "    <tr style=\"text-align: right;\">\n",
       "      <th></th>\n",
       "      <th>Order Id</th>\n",
       "      <th>Order Date</th>\n",
       "      <th>Month</th>\n",
       "      <th>Customer</th>\n",
       "      <th>Invoice Id</th>\n",
       "      <th>Product Id</th>\n",
       "      <th>Product Name</th>\n",
       "      <th>Qty</th>\n",
       "      <th>Rate</th>\n",
       "      <th>Net Amount</th>\n",
       "      <th>Tax Type</th>\n",
       "      <th>TAX</th>\n",
       "      <th>Tax Amount</th>\n",
       "      <th>Amount</th>\n",
       "    </tr>\n",
       "  </thead>\n",
       "  <tbody>\n",
       "    <tr>\n",
       "      <th>0</th>\n",
       "      <td>10067</td>\n",
       "      <td>42406</td>\n",
       "      <td>Feb</td>\n",
       "      <td>Customer 1</td>\n",
       "      <td>10075</td>\n",
       "      <td>10023</td>\n",
       "      <td>RICE STICKS 5MM 1PKT</td>\n",
       "      <td>30.0</td>\n",
       "      <td>159.5</td>\n",
       "      <td>4785.0</td>\n",
       "      <td>VAT</td>\n",
       "      <td>14.5</td>\n",
       "      <td>693.83</td>\n",
       "      <td>4785.0</td>\n",
       "    </tr>\n",
       "    <tr>\n",
       "      <th>1</th>\n",
       "      <td>10177</td>\n",
       "      <td>42443</td>\n",
       "      <td>Mar</td>\n",
       "      <td>Customer 1</td>\n",
       "      <td>10145</td>\n",
       "      <td>ITEM-CM_BLACKPEPPER</td>\n",
       "      <td>BLACK PEPPER QUALITY2 1KG</td>\n",
       "      <td>1.0</td>\n",
       "      <td>810.0</td>\n",
       "      <td>810.0</td>\n",
       "      <td>VAT</td>\n",
       "      <td>5.5</td>\n",
       "      <td>44.55</td>\n",
       "      <td>810.0</td>\n",
       "    </tr>\n",
       "    <tr>\n",
       "      <th>2</th>\n",
       "      <td>10177</td>\n",
       "      <td>42443</td>\n",
       "      <td>Mar</td>\n",
       "      <td>Customer 1</td>\n",
       "      <td>10145</td>\n",
       "      <td>10466</td>\n",
       "      <td>BASMATI RICE QUALITY1 25KG</td>\n",
       "      <td>1.0</td>\n",
       "      <td>2050.0</td>\n",
       "      <td>2050.0</td>\n",
       "      <td></td>\n",
       "      <td>0.0</td>\n",
       "      <td>0.00</td>\n",
       "      <td>2050.0</td>\n",
       "    </tr>\n",
       "    <tr>\n",
       "      <th>3</th>\n",
       "      <td>10052</td>\n",
       "      <td>42401</td>\n",
       "      <td>Feb</td>\n",
       "      <td>Customer 1</td>\n",
       "      <td>10060</td>\n",
       "      <td>10534</td>\n",
       "      <td>WALNUT QUALITY2 1KG</td>\n",
       "      <td>1.0</td>\n",
       "      <td>1317.0</td>\n",
       "      <td>1317.0</td>\n",
       "      <td>VAT</td>\n",
       "      <td>14.5</td>\n",
       "      <td>190.97</td>\n",
       "      <td>1317.0</td>\n",
       "    </tr>\n",
       "    <tr>\n",
       "      <th>4</th>\n",
       "      <td>10052</td>\n",
       "      <td>42401</td>\n",
       "      <td>Feb</td>\n",
       "      <td>Customer 1</td>\n",
       "      <td>10060</td>\n",
       "      <td>ITEM-BADAM</td>\n",
       "      <td>ALMOND 1KG</td>\n",
       "      <td>2.0</td>\n",
       "      <td>922.0</td>\n",
       "      <td>1844.0</td>\n",
       "      <td>VAT</td>\n",
       "      <td>14.5</td>\n",
       "      <td>267.38</td>\n",
       "      <td>1844.0</td>\n",
       "    </tr>\n",
       "  </tbody>\n",
       "</table>\n",
       "</div>"
      ],
      "text/plain": [
       "   Order Id  Order Date Month    Customer  Invoice Id           Product Id  \\\n",
       "0     10067       42406   Feb  Customer 1       10075                10023   \n",
       "1     10177       42443   Mar  Customer 1       10145  ITEM-CM_BLACKPEPPER   \n",
       "2     10177       42443   Mar  Customer 1       10145                10466   \n",
       "3     10052       42401   Feb  Customer 1       10060                10534   \n",
       "4     10052       42401   Feb  Customer 1       10060           ITEM-BADAM   \n",
       "\n",
       "                 Product Name   Qty    Rate  Net Amount Tax Type   TAX  \\\n",
       "0        RICE STICKS 5MM 1PKT  30.0   159.5      4785.0      VAT  14.5   \n",
       "1   BLACK PEPPER QUALITY2 1KG   1.0   810.0       810.0      VAT   5.5   \n",
       "2  BASMATI RICE QUALITY1 25KG   1.0  2050.0      2050.0            0.0   \n",
       "3         WALNUT QUALITY2 1KG   1.0  1317.0      1317.0      VAT  14.5   \n",
       "4                  ALMOND 1KG   2.0   922.0      1844.0      VAT  14.5   \n",
       "\n",
       "   Tax Amount  Amount  \n",
       "0      693.83  4785.0  \n",
       "1       44.55   810.0  \n",
       "2        0.00  2050.0  \n",
       "3      190.97  1317.0  \n",
       "4      267.38  1844.0  "
      ]
     },
     "execution_count": 3,
     "metadata": {},
     "output_type": "execute_result"
    }
   ],
   "source": [
    "print(\"dataset size: [\",dataset.shape[0],'rows,',\n",
    "      dataset.shape[1],'columns]')\n",
    "dataset.head()\n"
   ]
  },
  {
   "cell_type": "markdown",
   "metadata": {
    "colab_type": "text",
    "id": "fxnc8QbcNVll"
   },
   "source": [
    "# Lets Analyse for two clusters"
   ]
  },
  {
   "cell_type": "code",
   "execution_count": 4,
   "metadata": {
    "colab": {},
    "colab_type": "code",
    "collapsed": true,
    "id": "vXyU9pCENVlq"
   },
   "outputs": [],
   "source": [
    "from sklearn.cluster import KMeans  \n",
    "\n",
    "# Applying K-means to the data set for two clusters\n",
    "kmeans = KMeans(n_clusters = 2 ,  \n",
    "                random_state = 42)\n",
    "\n",
    "y_kmeans = kmeans.fit_predict(X)\n",
    "\n",
    "# fit_predict() method returns which data points \n",
    "    # belong to which cluster"
   ]
  },
  {
   "cell_type": "code",
   "execution_count": 5,
   "metadata": {
    "colab": {
     "base_uri": "https://localhost:8080/",
     "height": 376
    },
    "colab_type": "code",
    "collapsed": false,
    "executionInfo": {
     "elapsed": 1380,
     "status": "ok",
     "timestamp": 1550822804123,
     "user": {
      "displayName": "Saurabh Bansal",
      "photoUrl": "",
      "userId": "16730173580197411311"
     },
     "user_tz": -330
    },
    "id": "tWENJN78NVlt",
    "outputId": "16e7a3b6-1aba-4b22-f788-8eede2cc1004"
   },
   "outputs": [
    {
     "data": {
      "image/png": "[encoded data removed]",
      "text/plain": [
       "<Figure size 432x288 with 1 Axes>"
      ]
     },
     "metadata": {
      "needs_background": "light"
     },
     "output_type": "display_data"
    }
   ],
   "source": [
    "# Visualization of two clusters\n",
    "\n",
    "plt.scatter(X[y_kmeans == 0, 0], X[y_kmeans == 0, 1],\n",
    "            s = 100, c = 'red', label = 'Cluster 1')\n",
    "plt.scatter(X[y_kmeans == 1, 0], X[y_kmeans == 1, 1],\n",
    "            s = 100, c = 'blue', label = 'Cluster 2')\n",
    "plt.scatter(kmeans.cluster_centers_[:, 0], \n",
    "            kmeans.cluster_centers_[:, 1], \n",
    "            s = 300, c = 'yellow', label = 'Centroids')\n",
    "plt.title('Clusters')\n",
    "plt.xlabel('Quantity')\n",
    "plt.ylabel('Rate')\n",
    "plt.legend()\n",
    "plt.show()"
   ]
  },
  {
   "cell_type": "code",
   "execution_count": 6,
   "metadata": {
    "colab": {
     "base_uri": "https://localhost:8080/",
     "height": 35
    },
    "colab_type": "code",
    "collapsed": false,
    "executionInfo": {
     "elapsed": 748,
     "status": "ok",
     "timestamp": 1550822810531,
     "user": {
      "displayName": "Saurabh Bansal",
      "photoUrl": "",
      "userId": "16730173580197411311"
     },
     "user_tz": -330
    },
    "id": "gtkTepLINVlz",
    "outputId": "d05f7bce-00a9-4e30-aa56-0e3f78814c56"
   },
   "outputs": [
    {
     "name": "stdout",
     "output_type": "stream",
     "text": [
      "Interia is 184747.01492387167\n"
     ]
    }
   ],
   "source": [
    "print(\"Interia is\", kmeans.inertia_)"
   ]
  },
  {
   "cell_type": "markdown",
   "metadata": {
    "colab_type": "text",
    "id": "KigzwgZ-NVl3"
   },
   "source": [
    "# Now let us plot the elbow method to get an intuition for what number of cluster would be the best fit for our data"
   ]
  },
  {
   "cell_type": "code",
   "execution_count": 7,
   "metadata": {
    "colab": {},
    "colab_type": "code",
    "collapsed": true,
    "id": "ZCUaM3w3NVl4"
   },
   "outputs": [],
   "source": [
    "# Applying K-means algorithm to the data with the right\n",
    "# number of clusters obtained from Elbow method\n",
    "  \n",
    "# Finding out optimum number of clusters by\n",
    "# \"Within Cluster Sum of Squares\" (WCSS)\n",
    "wcss = []    \n",
    "for i in range (1,7):\n",
    "    kmeans = KMeans(n_clusters = i, init = 'k-means++', \n",
    "                    random_state = 0)\n",
    "    kmeans.fit(X)   \n",
    "    \n",
    "    # Compute WCSS and append it to the list Inertia \n",
    "    wcss.append(kmeans.inertia_) "
   ]
  },
  {
   "cell_type": "code",
   "execution_count": 8,
   "metadata": {
    "colab": {
     "base_uri": "https://localhost:8080/",
     "height": 376
    },
    "colab_type": "code",
    "collapsed": false,
    "executionInfo": {
     "elapsed": 883,
     "status": "ok",
     "timestamp": 1550823420877,
     "user": {
      "displayName": "Saurabh Bansal",
      "photoUrl": "",
      "userId": "16730173580197411311"
     },
     "user_tz": -330
    },
    "id": "0ScCuZ54NVl8",
    "outputId": "12dd3fef-c077-41a8-b2f8-4bca90283e7c"
   },
   "outputs": [
    {
     "data": {
      "image/png": "[encoded data removed]",
      "text/plain": [
       "<Figure size 432x288 with 1 Axes>"
      ]
     },
     "metadata": {
      "needs_background": "light"
     },
     "output_type": "display_data"
    }
   ],
   "source": [
    "\n",
    "plt.plot(range(1, 7), wcss)        # plotting Elbow method\n",
    "plt.title('The Elbow Method')       # naming the title\n",
    "plt.xlabel('Number of clusters')    # labeling x axis   \n",
    "plt.ylabel('WCSS')                  # labelling the y axis          \n",
    "plt.show()                          #Display the chart"
   ]
  },
  {
   "cell_type": "code",
   "execution_count": 9,
   "metadata": {
    "colab": {
     "base_uri": "https://localhost:8080/",
     "height": 35
    },
    "colab_type": "code",
    "collapsed": false,
    "executionInfo": {
     "elapsed": 740,
     "status": "ok",
     "timestamp": 1550823424817,
     "user": {
      "displayName": "Saurabh Bansal",
      "photoUrl": "",
      "userId": "16730173580197411311"
     },
     "user_tz": -330
    },
    "id": "Y5BcjfDoNVmE",
    "outputId": "55d311d4-2cfc-40c3-b215-36502c7e57c9"
   },
   "outputs": [
    {
     "name": "stdout",
     "output_type": "stream",
     "text": [
      "Best k here based on elbow curve for inertia is 3\n"
     ]
    }
   ],
   "source": [
    "print(\"Best k here based on elbow curve for inertia is\", 3)"
   ]
  },
  {
   "cell_type": "code",
   "execution_count": null,
   "metadata": {
    "collapsed": true
   },
   "outputs": [],
   "source": []
  }
 ],
 "metadata": {
  "colab": {
   "name": "MetricsClustering.ipynb",
   "provenance": [],
   "version": "0.3.2"
  },
  "kernelspec": {
   "display_name": "Python 3",
   "language": "python",
   "name": "python3"
  },
  "language_info": {
   "codemirror_mode": {
    "name": "ipython",
    "version": 3
   },
   "file_extension": ".py",
   "mimetype": "text/x-python",
   "name": "python",
   "nbconvert_exporter": "python",
   "pygments_lexer": "ipython3",
   "version": "3.6.7"
  }
 },
 "nbformat": 4,
 "nbformat_minor": 0
}
