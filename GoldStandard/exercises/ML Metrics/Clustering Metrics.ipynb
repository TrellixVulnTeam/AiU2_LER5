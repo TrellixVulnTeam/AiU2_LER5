{
 "cells": [
  {
   "cell_type": "markdown",
   "metadata": {},
   "source": [
    "# Unsupervised Clustering "
   ]
  },
  {
   "cell_type": "code",
   "execution_count": 79,
   "metadata": {
    "colab": {},
    "colab_type": "code",
    "id": "p8BpFLYGNVlP"
   },
   "outputs": [],
   "source": [
    "%reload_ext autoreload\n",
    "%autoreload 2\n",
    "from clustering_details import *"
   ]
  },
  {
   "cell_type": "markdown",
   "metadata": {},
   "source": [
    "### Data: Retail store transactions"
   ]
  },
  {
   "cell_type": "code",
   "execution_count": 80,
   "metadata": {
    "colab": {},
    "colab_type": "code",
    "id": "BInKC6cnNVlZ"
   },
   "outputs": [
    {
     "name": "stdout",
     "output_type": "stream",
     "text": [
      "dataset size: [ 1238 rows, 14 columns]\n"
     ]
    },
    {
     "data": {
      "text/html": [
       "<div>\n",
       "<style scoped>\n",
       "    .dataframe tbody tr th:only-of-type {\n",
       "        vertical-align: middle;\n",
       "    }\n",
       "\n",
       "    .dataframe tbody tr th {\n",
       "        vertical-align: top;\n",
       "    }\n",
       "\n",
       "    .dataframe thead th {\n",
       "        text-align: right;\n",
       "    }\n",
       "</style>\n",
       "<table border=\"1\" class=\"dataframe\">\n",
       "  <thead>\n",
       "    <tr style=\"text-align: right;\">\n",
       "      <th></th>\n",
       "      <th>Order Id</th>\n",
       "      <th>Order Date</th>\n",
       "      <th>Month</th>\n",
       "      <th>Customer</th>\n",
       "      <th>Invoice Id</th>\n",
       "      <th>Product Id</th>\n",
       "      <th>Product Name</th>\n",
       "      <th>Qty</th>\n",
       "      <th>Rate</th>\n",
       "      <th>Net Amount</th>\n",
       "      <th>Tax Type</th>\n",
       "      <th>TAX</th>\n",
       "      <th>Tax Amount</th>\n",
       "      <th>Amount</th>\n",
       "    </tr>\n",
       "  </thead>\n",
       "  <tbody>\n",
       "    <tr>\n",
       "      <th>0</th>\n",
       "      <td>10067</td>\n",
       "      <td>42406</td>\n",
       "      <td>Feb</td>\n",
       "      <td>Customer 1</td>\n",
       "      <td>10075</td>\n",
       "      <td>10023</td>\n",
       "      <td>RICE STICKS 5MM 1PKT</td>\n",
       "      <td>30.0</td>\n",
       "      <td>159.5</td>\n",
       "      <td>4785.0</td>\n",
       "      <td>VAT</td>\n",
       "      <td>14.5</td>\n",
       "      <td>693.83</td>\n",
       "      <td>4785.0</td>\n",
       "    </tr>\n",
       "    <tr>\n",
       "      <th>1</th>\n",
       "      <td>10177</td>\n",
       "      <td>42443</td>\n",
       "      <td>Mar</td>\n",
       "      <td>Customer 1</td>\n",
       "      <td>10145</td>\n",
       "      <td>ITEM-CM_BLACKPEPPER</td>\n",
       "      <td>BLACK PEPPER QUALITY2 1KG</td>\n",
       "      <td>1.0</td>\n",
       "      <td>810.0</td>\n",
       "      <td>810.0</td>\n",
       "      <td>VAT</td>\n",
       "      <td>5.5</td>\n",
       "      <td>44.55</td>\n",
       "      <td>810.0</td>\n",
       "    </tr>\n",
       "    <tr>\n",
       "      <th>2</th>\n",
       "      <td>10177</td>\n",
       "      <td>42443</td>\n",
       "      <td>Mar</td>\n",
       "      <td>Customer 1</td>\n",
       "      <td>10145</td>\n",
       "      <td>10466</td>\n",
       "      <td>BASMATI RICE QUALITY1 25KG</td>\n",
       "      <td>1.0</td>\n",
       "      <td>2050.0</td>\n",
       "      <td>2050.0</td>\n",
       "      <td></td>\n",
       "      <td>0.0</td>\n",
       "      <td>0.00</td>\n",
       "      <td>2050.0</td>\n",
       "    </tr>\n",
       "    <tr>\n",
       "      <th>3</th>\n",
       "      <td>10052</td>\n",
       "      <td>42401</td>\n",
       "      <td>Feb</td>\n",
       "      <td>Customer 1</td>\n",
       "      <td>10060</td>\n",
       "      <td>10534</td>\n",
       "      <td>WALNUT QUALITY2 1KG</td>\n",
       "      <td>1.0</td>\n",
       "      <td>1317.0</td>\n",
       "      <td>1317.0</td>\n",
       "      <td>VAT</td>\n",
       "      <td>14.5</td>\n",
       "      <td>190.97</td>\n",
       "      <td>1317.0</td>\n",
       "    </tr>\n",
       "    <tr>\n",
       "      <th>4</th>\n",
       "      <td>10052</td>\n",
       "      <td>42401</td>\n",
       "      <td>Feb</td>\n",
       "      <td>Customer 1</td>\n",
       "      <td>10060</td>\n",
       "      <td>ITEM-BADAM</td>\n",
       "      <td>ALMOND 1KG</td>\n",
       "      <td>2.0</td>\n",
       "      <td>922.0</td>\n",
       "      <td>1844.0</td>\n",
       "      <td>VAT</td>\n",
       "      <td>14.5</td>\n",
       "      <td>267.38</td>\n",
       "      <td>1844.0</td>\n",
       "    </tr>\n",
       "  </tbody>\n",
       "</table>\n",
       "</div>"
      ],
      "text/plain": [
       "   Order Id  Order Date Month    Customer  Invoice Id           Product Id  \\\n",
       "0     10067       42406   Feb  Customer 1       10075                10023   \n",
       "1     10177       42443   Mar  Customer 1       10145  ITEM-CM_BLACKPEPPER   \n",
       "2     10177       42443   Mar  Customer 1       10145                10466   \n",
       "3     10052       42401   Feb  Customer 1       10060                10534   \n",
       "4     10052       42401   Feb  Customer 1       10060           ITEM-BADAM   \n",
       "\n",
       "                 Product Name   Qty    Rate  Net Amount Tax Type   TAX  \\\n",
       "0        RICE STICKS 5MM 1PKT  30.0   159.5      4785.0      VAT  14.5   \n",
       "1   BLACK PEPPER QUALITY2 1KG   1.0   810.0       810.0      VAT   5.5   \n",
       "2  BASMATI RICE QUALITY1 25KG   1.0  2050.0      2050.0            0.0   \n",
       "3         WALNUT QUALITY2 1KG   1.0  1317.0      1317.0      VAT  14.5   \n",
       "4                  ALMOND 1KG   2.0   922.0      1844.0      VAT  14.5   \n",
       "\n",
       "   Tax Amount  Amount  \n",
       "0      693.83  4785.0  \n",
       "1       44.55   810.0  \n",
       "2        0.00  2050.0  \n",
       "3      190.97  1317.0  \n",
       "4      267.38  1844.0  "
      ]
     },
     "execution_count": 80,
     "metadata": {},
     "output_type": "execute_result"
    }
   ],
   "source": [
    "\n",
    "load_input_data_from_file(\"./RetailData.csv\")"
   ]
  },
  {
   "cell_type": "markdown",
   "metadata": {},
   "source": [
    "### Columns 'Qty' and 'Rate' are used for clustering"
   ]
  },
  {
   "cell_type": "code",
   "execution_count": 81,
   "metadata": {},
   "outputs": [
    {
     "name": "stdout",
     "output_type": "stream",
     "text": [
      "[ 1238  rows]\n"
     ]
    }
   ],
   "source": [
    "clustering_cols_data=set_cols_used_for_clustering(['Qty', 'Rate'])"
   ]
  },
  {
   "cell_type": "markdown",
   "metadata": {
    "colab_type": "text",
    "id": "fxnc8QbcNVll"
   },
   "source": [
    "### Divide data into clusters and visualize"
   ]
  },
  {
   "cell_type": "code",
   "execution_count": 82,
   "metadata": {
    "colab": {},
    "colab_type": "code",
    "id": "vXyU9pCENVlq"
   },
   "outputs": [
    {
     "data": {
      "image/png": "[encoded data removed]",
      "text/plain": [
       "<matplotlib.figure.Figure at 0x1c33c1664a8>"
      ]
     },
     "metadata": {
      "needs_background": "light"
     },
     "output_type": "display_data"
    }
   ],
   "source": [
    "deduce_clusters(num_clusters=5)\n"
   ]
  },
  {
   "cell_type": "code",
   "execution_count": 83,
   "metadata": {
    "colab": {
     "base_uri": "https://localhost:8080/",
     "height": 35
    },
    "colab_type": "code",
    "executionInfo": {
     "elapsed": 748,
     "status": "ok",
     "timestamp": 1550822810531,
     "user": {
      "displayName": "Saurabh Bansal",
      "photoUrl": "",
      "userId": "16730173580197411311"
     },
     "user_tz": -330
    },
    "id": "gtkTepLINVlz",
    "outputId": "d05f7bce-00a9-4e30-aa56-0e3f78814c56"
   },
   "outputs": [
    {
     "name": "stdout",
     "output_type": "stream",
     "text": [
      "Inertia is: 7.72e+06\n"
     ]
    }
   ],
   "source": [
    "print_inertia_metric()"
   ]
  },
  {
   "cell_type": "markdown",
   "metadata": {
    "colab_type": "text",
    "id": "KigzwgZ-NVl3"
   },
   "source": [
    "## Use elbow method to get optimum number of clusters"
   ]
  },
  {
   "cell_type": "code",
   "execution_count": 84,
   "metadata": {
    "colab": {},
    "colab_type": "code",
    "id": "ZCUaM3w3NVl4"
   },
   "outputs": [
    {
     "name": "stdout",
     "output_type": "stream",
     "text": [
      "#Clusters: 1 -> Inertia: 1.97e+08\n",
      "#Clusters: 2 -> Inertia: 4.53e+07\n",
      "#Clusters: 3 -> Inertia: 2.09e+07\n",
      "#Clusters: 4 -> Inertia: 1.34e+07\n",
      "#Clusters: 5 -> Inertia: 7.73e+06\n",
      "#Clusters: 6 -> Inertia: 5.08e+06\n"
     ]
    },
    {
     "data": {
      "image/png": "[encoded data removed]",
      "text/plain": [
       "<matplotlib.figure.Figure at 0x1c33c14aeb8>"
      ]
     },
     "metadata": {
      "needs_background": "light"
     },
     "output_type": "display_data"
    }
   ],
   "source": [
    "# Compute inertia for various numbers of clusters (1 to 6) \n",
    "compute_and_plot_elbow (max_clusters=6)"
   ]
  },
  {
   "cell_type": "code",
   "execution_count": 85,
   "metadata": {
    "colab": {
     "base_uri": "https://localhost:8080/",
     "height": 35
    },
    "colab_type": "code",
    "executionInfo": {
     "elapsed": 740,
     "status": "ok",
     "timestamp": 1550823424817,
     "user": {
      "displayName": "Saurabh Bansal",
      "photoUrl": "",
      "userId": "16730173580197411311"
     },
     "user_tz": -330
    },
    "id": "Y5BcjfDoNVmE",
    "outputId": "55d311d4-2cfc-40c3-b215-36502c7e57c9"
   },
   "outputs": [
    {
     "name": "stdout",
     "output_type": "stream",
     "text": [
      "Best k here based on elbow curve for inertia is 3\n"
     ]
    }
   ],
   "source": [
    "print(\"Best k here based on elbow curve for inertia is\", 3)"
   ]
  }
 ],
 "metadata": {
  "colab": {
   "name": "MetricsClustering.ipynb",
   "provenance": [],
   "version": "0.3.2"
  },
  "kernelspec": {
   "display_name": "Python 3",
   "language": "python",
   "name": "python3"
  },
  "language_info": {
   "codemirror_mode": {
    "name": "ipython",
    "version": 3
   },
   "file_extension": ".py",
   "mimetype": "text/x-python",
   "name": "python",
   "nbconvert_exporter": "python",
   "pygments_lexer": "ipython3",
   "version": "3.6.7"
  }
 },
 "nbformat": 4,
 "nbformat_minor": 1
}
