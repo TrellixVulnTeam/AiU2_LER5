{
 "cells": [
  {
   "cell_type": "code",
   "execution_count": 1,
   "metadata": {
    "colab": {},
    "colab_type": "code",
    "collapsed": true,
    "id": "5fjAZO9CeO-F"
   },
   "outputs": [],
   "source": [
    "# Regression with Linear Regression and Regression Tree\n",
    "# importing the Libraries\n",
    "import numpy as np \n",
    "import pandas as pd\n",
    "import matplotlib.pyplot as plt\n",
    "\n",
    "from sklearn.model_selection import train_test_split\n",
    "from sklearn.metrics import mean_squared_error, r2_score"
   ]
  },
  {
   "cell_type": "code",
   "execution_count": 2,
   "metadata": {
    "collapsed": true
   },
   "outputs": [],
   "source": [
    "import warnings\n",
    "warnings.filterwarnings(\"ignore\", category=FutureWarning)"
   ]
  },
  {
   "cell_type": "code",
   "execution_count": 3,
   "metadata": {
    "colab": {},
    "colab_type": "code",
    "collapsed": false,
    "id": "6e4pUhgeeO-P"
   },
   "outputs": [],
   "source": [
    "#Import Data from Input\n",
    "df= pd.read_csv(\"mpg.csv\",header=0)\n",
    "\n",
    "training_features = [ 'weight','acceleration','origin']\n",
    "target = 'mpg'\n",
    "\n",
    "X_train, X_test, Y_train, Y_test = train_test_split(\n",
    "    df[training_features], df[target], train_size=0.9,random_state=10) \n"
   ]
  },
  {
   "cell_type": "code",
   "execution_count": 4,
   "metadata": {
    "colab": {},
    "colab_type": "code",
    "collapsed": true,
    "id": "AYrDTdbVeO-l"
   },
   "outputs": [],
   "source": [
    "# Regression where we try to get mpg in terms of other parameters"
   ]
  },
  {
   "cell_type": "code",
   "execution_count": 5,
   "metadata": {
    "colab": {},
    "colab_type": "code",
    "collapsed": true,
    "id": "A8fXPChkeO-o"
   },
   "outputs": [],
   "source": [
    "from sklearn import datasets, linear_model\n",
    "from sklearn.metrics import mean_squared_error, r2_score\n",
    "from sklearn.model_selection import train_test_split"
   ]
  },
  {
   "cell_type": "code",
   "execution_count": 6,
   "metadata": {
    "colab": {},
    "colab_type": "code",
    "collapsed": false,
    "id": "4UoWue-ueO-t"
   },
   "outputs": [
    {
     "data": {
      "text/plain": [
       "LinearRegression(copy_X=True, fit_intercept=True, n_jobs=None,\n",
       "         normalize=False)"
      ]
     },
     "execution_count": 6,
     "metadata": {},
     "output_type": "execute_result"
    }
   ],
   "source": [
    "# Linear regression\n",
    "from sklearn import datasets, linear_model\n",
    "\n",
    "model = linear_model.LinearRegression()\n",
    "model.fit(X_train,Y_train)"
   ]
  },
  {
   "cell_type": "code",
   "execution_count": 7,
   "metadata": {
    "colab": {
     "base_uri": "https://localhost:8080/",
     "height": 106
    },
    "colab_type": "code",
    "collapsed": false,
    "executionInfo": {
     "elapsed": 767,
     "status": "ok",
     "timestamp": 1550827857453,
     "user": {
      "displayName": "Saurabh Bansal",
      "photoUrl": "",
      "userId": "16730173580197411311"
     },
     "user_tz": -330
    },
    "id": "Tf3ujq2XeO-z",
    "outputId": "6f68a0bd-ac01-4f0a-cddc-3f1f2e4e87a7"
   },
   "outputs": [
    {
     "name": "stdout",
     "output_type": "stream",
     "text": [
      "Coefficients to training features: \n",
      "['weight', 'acceleration', 'origin'] \n",
      " ['-0.0065933', '0.27793', '1.4512'] \n",
      "\n",
      "Intercept: 36.68266408181672\n"
     ]
    }
   ],
   "source": [
    "# The coefficients and intercept\n",
    "model_coeff = [\"{:.5}\".format(c) for c in model.coef_]\n",
    "print('Coefficients to training features: ')\n",
    "print (training_features,'\\n', model_coeff,'\\n')\n",
    "print('Intercept:',model.intercept_)"
   ]
  },
  {
   "cell_type": "code",
   "execution_count": 8,
   "metadata": {
    "colab": {
     "base_uri": "https://localhost:8080/",
     "height": 52
    },
    "colab_type": "code",
    "collapsed": false,
    "executionInfo": {
     "elapsed": 33757,
     "status": "ok",
     "timestamp": 1550826760087,
     "user": {
      "displayName": "Saurabh Bansal",
      "photoUrl": "",
      "userId": "16730173580197411311"
     },
     "user_tz": -330
    },
    "id": "xKy8U0kCeO-3",
    "outputId": "094637a1-e012-4bcb-cfba-0e17eef6af05"
   },
   "outputs": [
    {
     "name": "stdout",
     "output_type": "stream",
     "text": [
      "Mean squared error: 19.08\n",
      "R Square score: 0.63\n"
     ]
    }
   ],
   "source": [
    "predicted = model.predict(X_test)\n",
    "# The mean squared error\n",
    "print(\"Mean squared error: %.2f\"\n",
    "      % mean_squared_error(Y_test, predicted))\n",
    "# Explained R-Square score: 1 is perfect prediction\n",
    "print('R Square score: %.2f' % r2_score(Y_test, predicted))\n"
   ]
  },
  {
   "cell_type": "code",
   "execution_count": null,
   "metadata": {
    "collapsed": true
   },
   "outputs": [],
   "source": []
  }
 ],
 "metadata": {
  "colab": {
   "name": "RegressionMetricsExample.ipynb",
   "provenance": [],
   "version": "0.3.2"
  },
  "kernelspec": {
   "display_name": "Python 3",
   "language": "python",
   "name": "python3"
  },
  "language_info": {
   "codemirror_mode": {
    "name": "ipython",
    "version": 3
   },
   "file_extension": ".py",
   "mimetype": "text/x-python",
   "name": "python",
   "nbconvert_exporter": "python",
   "pygments_lexer": "ipython3",
   "version": "3.6.7"
  }
 },
 "nbformat": 4,
 "nbformat_minor": 0
}
