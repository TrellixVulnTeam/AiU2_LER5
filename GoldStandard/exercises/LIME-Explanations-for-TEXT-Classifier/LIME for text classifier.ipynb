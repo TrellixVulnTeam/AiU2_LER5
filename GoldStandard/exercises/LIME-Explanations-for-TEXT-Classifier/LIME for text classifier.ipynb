{
 "cells": [
  {
   "cell_type": "code",
   "execution_count": null,
   "metadata": {},
   "outputs": [],
   "source": [
    "%reload_ext autoreload\n",
    "%autoreload 2\n",
    "from codedetails import *"
   ]
  },
  {
   "cell_type": "markdown",
   "metadata": {},
   "source": [
    "## Data: newsgroup text as input data and newsgroup topic as target column"
   ]
  },
  {
   "cell_type": "markdown",
   "metadata": {},
   "source": [
    "### Fetch newgroups for only two topics: atheism & christianity"
   ]
  },
  {
   "cell_type": "code",
   "execution_count": null,
   "metadata": {},
   "outputs": [],
   "source": [
    "# for this example, we need just two topics: alt.atheism, soc.religion.christianity\n",
    "set_topics(['alt.atheism', 'soc.religion.christian'])"
   ]
  },
  {
   "cell_type": "code",
   "execution_count": null,
   "metadata": {},
   "outputs": [],
   "source": [
    "# Get 'train' & 'test' data for atheism and christianity categories\n",
    "fetch_data()\n",
    "\n",
    "convert_to_structured_data_form ()    "
   ]
  },
  {
   "cell_type": "code",
   "execution_count": null,
   "metadata": {},
   "outputs": [],
   "source": [
    "# Train, test the model and compute F1 score\n",
    "\n",
    "train_model ()\n",
    "\n",
    "compute_and_print_f1_score ()"
   ]
  },
  {
   "cell_type": "code",
   "execution_count": null,
   "metadata": {},
   "outputs": [],
   "source": [
    "# Choose a random sample input \n",
    "idx = 80\n",
    "print_test_sample (idx)"
   ]
  },
  {
   "cell_type": "code",
   "execution_count": null,
   "metadata": {},
   "outputs": [],
   "source": [
    "print_prediction_for_test_sample(idx)\n",
    "print_actual_category(idx)"
   ]
  },
  {
   "cell_type": "markdown",
   "metadata": {},
   "source": [
    "# Use LIME to explain/test predictions"
   ]
  },
  {
   "cell_type": "code",
   "execution_count": null,
   "metadata": {},
   "outputs": [],
   "source": [
    "find_lime_explanations_for (idx)"
   ]
  },
  {
   "cell_type": "markdown",
   "metadata": {},
   "source": [
    "## Note that the words from the Header/footer/quote fields have also contributed to prediction of  category; it is a bug at data preprocessing stage !!\n"
   ]
  },
  {
   "cell_type": "markdown",
   "metadata": {},
   "source": [
    "# Fixing the bug\n",
    "### Lets omit Header, footer, quote fields and recompute everything"
   ]
  },
  {
   "cell_type": "code",
   "execution_count": null,
   "metadata": {},
   "outputs": [],
   "source": [
    "fetch_data (remove_included_fields=True)\n",
    "\n",
    "convert_to_structured_data_form(fixed=True)\n",
    "\n",
    "train_model(fixed=True)\n",
    "\n",
    "print_test_sample (idx, fixed=True)"
   ]
  },
  {
   "cell_type": "code",
   "execution_count": null,
   "metadata": {},
   "outputs": [],
   "source": [
    "print (\"Before fixing: \")\n",
    "compute_and_print_f1_score()\n",
    "print (\"After fixing: \")\n",
    "compute_and_print_f1_score(fixed=True)"
   ]
  },
  {
   "cell_type": "code",
   "execution_count": null,
   "metadata": {},
   "outputs": [],
   "source": [
    "# After removing spurious features, predicted probabilities (atheism, christian) by trained model\n",
    "print (\"Before fixing: \")\n",
    "print_prediction_for_test_sample(idx)\n",
    "print (\"After fixing: \")\n",
    "print_prediction_for_test_sample(idx, fixed=True)\n",
    "\n",
    "print_actual_category(idx)"
   ]
  },
  {
   "cell_type": "code",
   "execution_count": null,
   "metadata": {},
   "outputs": [],
   "source": [
    "find_lime_explanations_for(idx, fixed=True)"
   ]
  }
 ],
 "metadata": {
  "kernelspec": {
   "display_name": "Python 3",
   "language": "python",
   "name": "python3"
  },
  "language_info": {
   "codemirror_mode": {
    "name": "ipython",
    "version": 3
   },
   "file_extension": ".py",
   "mimetype": "text/x-python",
   "name": "python",
   "nbconvert_exporter": "python",
   "pygments_lexer": "ipython3",
   "version": "3.6.7"
  }
 },
 "nbformat": 4,
 "nbformat_minor": 2
}
