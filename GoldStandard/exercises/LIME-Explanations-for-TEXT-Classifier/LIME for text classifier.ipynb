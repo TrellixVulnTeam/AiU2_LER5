{
 "cells": [
  {
   "cell_type": "code",
   "execution_count": 80,
   "metadata": {},
   "outputs": [],
   "source": [
    "%reload_ext autoreload\n",
    "%autoreload 2\n",
    "from codedetails import *"
   ]
  },
  {
   "cell_type": "markdown",
   "metadata": {},
   "source": [
    "## Data: newsgroup text as input data and newsgroup topic as target column"
   ]
  },
  {
   "cell_type": "markdown",
   "metadata": {},
   "source": [
    "### Fetch newgroups for only two topics: atheism & christianity"
   ]
  },
  {
   "cell_type": "code",
   "execution_count": 81,
   "metadata": {},
   "outputs": [],
   "source": [
    "# for this example, we need just two topics: alt.atheism, soc.religion.christianity\n",
    "set_topics(['alt.atheism', 'soc.religion.christian'])"
   ]
  },
  {
   "cell_type": "code",
   "execution_count": 82,
   "metadata": {},
   "outputs": [],
   "source": [
    "# Get 'train' & 'test' data for atheism and christianity categories\n",
    "fetch_data()\n",
    "\n",
    "convert_to_structured_data_form ()    "
   ]
  },
  {
   "cell_type": "code",
   "execution_count": 98,
   "metadata": {},
   "outputs": [
    {
     "name": "stdout",
     "output_type": "stream",
     "text": [
      "F1 score of the model= 93.40 %\n"
     ]
    }
   ],
   "source": [
    "# Train, test the model and compute F1 score\n",
    "\n",
    "train_model ()\n",
    "\n",
    "compute_and_print_f1_score ()"
   ]
  },
  {
   "cell_type": "code",
   "execution_count": 102,
   "metadata": {},
   "outputs": [
    {
     "name": "stdout",
     "output_type": "stream",
     "text": [
      "From: mayne@pipe.cs.fsu.edu (William Mayne)\n",
      "Subject: Re: Christian Morality is\n",
      "Organization: Florida State University Computer Science Department\n",
      "Reply-To: mayne@cs.fsu.edu\n",
      "Lines: 15\n",
      "\n",
      "In article <1993Apr21.184959.9451@dcs.warwick.ac.uk> simon@dcs.warwick.ac.uk (Simon Clippingdale) writes:\n",
      ">\n",
      ">Dan, I'm concerned that you are in grave spiritual danger because of your\n",
      ">stubborn refusal to love and accept into your heart the Mighty Invisible\n",
      ">Pink Unicorn...[Nice parody deleted.]\n",
      "\n",
      ">I shall pray for you. In fact, brother, I cast out the demon which binds you\n",
      ">in the Name of the Mighty Invisible Pink Unicorn. Dan, you must have *faith*!\n",
      "\n",
      "Then you better pray for me, too, because I believe that the Mighty\n",
      "Invisibile Pink Unicorn does not exist. One being cannot be both \"Pink\"\n",
      "and \"Invisible.\" The demon (or should that be daemon?) that keeps me\n",
      "from believing and saving my soul is named Logic.\n",
      "\n",
      "Bill Mayne\n",
      "\n"
     ]
    }
   ],
   "source": [
    "# Choose a random sample input \n",
    "idx = 80\n",
    "print_test_sample (idx)"
   ]
  },
  {
   "cell_type": "code",
   "execution_count": 103,
   "metadata": {},
   "outputs": [
    {
     "name": "stdout",
     "output_type": "stream",
     "text": [
      "Model prediction:[atheism = 41.80 %, christian = 58.20 %]\n",
      "\n",
      "Actual category: alt.atheism\n"
     ]
    }
   ],
   "source": [
    "print_prediction_for_test_sample(idx)\n",
    "print_actual_category(idx)"
   ]
  },
  {
   "cell_type": "markdown",
   "metadata": {},
   "source": [
    "# Use LIME to explain/test predictions"
   ]
  },
  {
   "cell_type": "code",
   "execution_count": 104,
   "metadata": {},
   "outputs": [
    {
     "data": {
      "image/png": "[encoded data removed]",
      "text/plain": [
       "<matplotlib.figure.Figure at 0x1815d5db390>"
      ]
     },
     "metadata": {
      "needs_background": "light"
     },
     "output_type": "display_data"
    },
    {
     "name": "stdout",
     "output_type": "stream",
     "text": [
      "LIME explanations for the sample: \n",
      "[('Morality', -0.09625319717398802), ('writes', -0.0557605897572445), ('article', -0.05507899981205429), ('uk', -0.045603969586595405), ('edu', -0.02544131487985572), ('faith', 0.01716931675352415)]\n"
     ]
    }
   ],
   "source": [
    "find_lime_explanations_for (idx)"
   ]
  },
  {
   "cell_type": "markdown",
   "metadata": {},
   "source": [
    "## Note that the words from the Header/footer/quote fields have also contributed to prediction of  category; it is a bug at data preprocessing stage !!\n"
   ]
  },
  {
   "cell_type": "markdown",
   "metadata": {},
   "source": [
    "# Fixing the bug\n",
    "### Lets omit Header, footer, quote fields and recompute everything"
   ]
  },
  {
   "cell_type": "code",
   "execution_count": 105,
   "metadata": {},
   "outputs": [
    {
     "name": "stdout",
     "output_type": "stream",
     "text": [
      "\n",
      "\n",
      "Then you better pray for me, too, because I believe that the Mighty\n",
      "Invisibile Pink Unicorn does not exist. One being cannot be both \"Pink\"\n",
      "and \"Invisible.\" The demon (or should that be daemon?) that keeps me\n",
      "from believing and saving my soul is named Logic.\n"
     ]
    }
   ],
   "source": [
    "fetch_data (remove_included_fields=True)\n",
    "\n",
    "convert_to_structured_data_form(fixed=True)\n",
    "\n",
    "train_model(fixed=True)\n",
    "\n",
    "print_test_sample (idx, fixed=True)"
   ]
  },
  {
   "cell_type": "code",
   "execution_count": 106,
   "metadata": {},
   "outputs": [
    {
     "name": "stdout",
     "output_type": "stream",
     "text": [
      "Before fixing: \n",
      "F1 score of the model= 93.40 %\n",
      "After fixing: \n",
      "F1 score of the model= 81.02 %\n"
     ]
    }
   ],
   "source": [
    "print (\"Before fixing: \")\n",
    "compute_and_print_f1_score()\n",
    "print (\"After fixing: \")\n",
    "compute_and_print_f1_score(fixed=True)"
   ]
  },
  {
   "cell_type": "code",
   "execution_count": 25,
   "metadata": {},
   "outputs": [
    {
     "name": "stdout",
     "output_type": "stream",
     "text": [
      "Before fixing: \n",
      "Model prediction:[atheism = 43.00 %, christian = 57.00 %]\n",
      "After fixing: \n",
      "Model prediction:[atheism = 59.45 %, christian = 40.55 %]\n",
      "\n",
      "Actual category: alt.atheism\n"
     ]
    }
   ],
   "source": [
    "# After removing spurious features, predicted probabilities (atheism, christian) by trained model\n",
    "print (\"Before fixing: \")\n",
    "print_prediction_for_test_sample(idx)\n",
    "print (\"After fixing: \")\n",
    "print_prediction_for_test_sample(idx, fixed=True)\n",
    "\n",
    "print_actual_category(idx)"
   ]
  },
  {
   "cell_type": "code",
   "execution_count": 107,
   "metadata": {},
   "outputs": [
    {
     "data": {
      "image/png": "[encoded data removed]",
      "text/plain": [
       "<matplotlib.figure.Figure at 0x1815ddc8be0>"
      ]
     },
     "metadata": {
      "needs_background": "light"
     },
     "output_type": "display_data"
    },
    {
     "name": "stdout",
     "output_type": "stream",
     "text": [
      "LIME explanations for the sample: \n",
      "[('believe', 0.128523633144979), ('does', -0.07304785365307646), ('exist', -0.04860770833586275), ('Pink', -0.024470454157002525), ('soul', 0.024318154218586584), ('believing', -0.023620096661855865)]\n"
     ]
    }
   ],
   "source": [
    "find_lime_explanations_for(idx, fixed=True)"
   ]
  }
 ],
 "metadata": {
  "kernelspec": {
   "display_name": "Python 3",
   "language": "python",
   "name": "python3"
  },
  "language_info": {
   "codemirror_mode": {
    "name": "ipython",
    "version": 3
   },
   "file_extension": ".py",
   "mimetype": "text/x-python",
   "name": "python",
   "nbconvert_exporter": "python",
   "pygments_lexer": "ipython3",
   "version": "3.6.7"
  }
 },
 "nbformat": 4,
 "nbformat_minor": 2
}
