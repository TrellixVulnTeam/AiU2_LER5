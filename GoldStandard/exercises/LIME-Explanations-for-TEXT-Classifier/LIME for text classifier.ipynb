{
 "cells": [
  {
   "cell_type": "code",
   "execution_count": 164,
   "metadata": {},
   "outputs": [],
   "source": [
    "%reload_ext autoreload\n",
    "%autoreload 2\n",
    "from codedetails import *"
   ]
  },
  {
   "cell_type": "code",
   "execution_count": 165,
   "metadata": {},
   "outputs": [],
   "source": [
    "# for this example, we need just two topics: alt.atheism, soc.religion.christianity\n",
    "set_topics(['alt.atheism', 'soc.religion.christian'])"
   ]
  },
  {
   "cell_type": "code",
   "execution_count": 166,
   "metadata": {},
   "outputs": [
    {
     "name": "stdout",
     "output_type": "stream",
     "text": [
      "\tF1 score of the model= 93.62 %\n"
     ]
    }
   ],
   "source": [
    "# Get 'train' & 'test' data for atheism and christianity categories\n",
    "fetch_data()\n",
    "\n",
    "convert_to_structured_data_form ()    \n",
    "\n",
    "train_model ()\n",
    "\n",
    "compute_and_print_f1_score ()"
   ]
  },
  {
   "cell_type": "code",
   "execution_count": 167,
   "metadata": {},
   "outputs": [
    {
     "name": "stdout",
     "output_type": "stream",
     "text": [
      "From: mayne@pipe.cs.fsu.edu (William Mayne)\n",
      "Subject: Re: Christian Morality is\n",
      "Organization: Florida State University Computer Science Department\n",
      "Reply-To: mayne@cs.fsu.edu\n",
      "Lines: 15\n",
      "\n",
      "In article <1993Apr21.184959.9451@dcs.warwick.ac.uk> simon@dcs.warwick.ac.uk (Simon Clippingdale) writes:\n",
      ">\n",
      ">Dan, I'm concerned that you are in grave spiritual danger because of your\n",
      ">stubborn refusal to love and accept into your heart the Mighty Invisible\n",
      ">Pink Unicorn...[Nice parody deleted.]\n",
      "\n",
      ">I shall pray for you. In fact, brother, I cast out the demon which binds you\n",
      ">in the Name of the Mighty Invisible Pink Unicorn. Dan, you must have *faith*!\n",
      "\n",
      "Then you better pray for me, too, because I believe that the Mighty\n",
      "Invisibile Pink Unicorn does not exist. One being cannot be both \"Pink\"\n",
      "and \"Invisible.\" The demon (or should that be daemon?) that keeps me\n",
      "from believing and saving my soul is named Logic.\n",
      "\n",
      "Bill Mayne\n",
      "\n"
     ]
    }
   ],
   "source": [
    "# Choose a random sample input \n",
    "idx = 80\n",
    "print_test_sample (idx)"
   ]
  },
  {
   "cell_type": "code",
   "execution_count": 168,
   "metadata": {},
   "outputs": [
    {
     "name": "stdout",
     "output_type": "stream",
     "text": [
      "Model prediction:[atheism = 42.80 %, christian = 57.20 %]\n",
      "\n",
      "Actual category: alt.atheism\n"
     ]
    }
   ],
   "source": [
    "print_prediction_for_test_sample(idx)\n",
    "print_actual_category(idx)"
   ]
  },
  {
   "cell_type": "markdown",
   "metadata": {},
   "source": [
    "# Use LIME to explain/test predictions"
   ]
  },
  {
   "cell_type": "code",
   "execution_count": 169,
   "metadata": {},
   "outputs": [
    {
     "name": "stdout",
     "output_type": "stream",
     "text": [
      "LIME explanations for the sample: \n"
     ]
    },
    {
     "data": {
      "image/png": "[encoded data removed]",
      "text/plain": [
       "<matplotlib.figure.Figure at 0x2918c0dbb00>"
      ]
     },
     "metadata": {
      "needs_background": "light"
     },
     "output_type": "display_data"
    }
   ],
   "source": [
    "find_lime_explanations_for (idx)"
   ]
  },
  {
   "cell_type": "markdown",
   "metadata": {},
   "source": [
    "## Note that the words from the Header/footer/quote fields have also contributed to prediction of  category; it is a bug at data preprocessing stage !!\n"
   ]
  },
  {
   "cell_type": "markdown",
   "metadata": {},
   "source": [
    "# Fixing the bug\n",
    "### Lets omit Header, footer, quote fields and recompute everything"
   ]
  },
  {
   "cell_type": "code",
   "execution_count": 170,
   "metadata": {},
   "outputs": [
    {
     "name": "stdout",
     "output_type": "stream",
     "text": [
      "\n",
      "\n",
      "Then you better pray for me, too, because I believe that the Mighty\n",
      "Invisibile Pink Unicorn does not exist. One being cannot be both \"Pink\"\n",
      "and \"Invisible.\" The demon (or should that be daemon?) that keeps me\n",
      "from believing and saving my soul is named Logic.\n"
     ]
    }
   ],
   "source": [
    "fetch_data (remove_included_fields=True)\n",
    "\n",
    "convert_to_structured_data_form(fixed=True)\n",
    "\n",
    "train_model(fixed=True)\n",
    "\n",
    "print_test_sample (idx, fixed=True)"
   ]
  },
  {
   "cell_type": "code",
   "execution_count": 171,
   "metadata": {},
   "outputs": [
    {
     "name": "stdout",
     "output_type": "stream",
     "text": [
      "Before fixing: \n",
      "\tF1 score of the model= 93.62 %\n",
      "After fixing: \n",
      "\tF1 score of the model= 80.82 %\n"
     ]
    }
   ],
   "source": [
    "print (\"Before fixing: \")\n",
    "compute_and_print_f1_score()\n",
    "print (\"After fixing: \")\n",
    "compute_and_print_f1_score(fixed=True)"
   ]
  },
  {
   "cell_type": "code",
   "execution_count": 172,
   "metadata": {},
   "outputs": [
    {
     "name": "stdout",
     "output_type": "stream",
     "text": [
      "Before fixing: \n",
      "Model prediction:[atheism = 42.80 %, christian = 57.20 %]\n",
      "After fixing: \n",
      "Model prediction:[atheism = 60.38 %, christian = 39.62 %]\n",
      "\n",
      "Actual category: alt.atheism\n"
     ]
    }
   ],
   "source": [
    "# After removing spurious features, predicted probabilities (atheism, christian) by trained model\n",
    "print (\"Before fixing: \")\n",
    "print_prediction_for_test_sample(idx)\n",
    "print (\"After fixing: \")\n",
    "print_prediction_for_test_sample(idx, fixed=True)\n",
    "\n",
    "print_actual_category(idx)"
   ]
  },
  {
   "cell_type": "code",
   "execution_count": 173,
   "metadata": {},
   "outputs": [
    {
     "name": "stdout",
     "output_type": "stream",
     "text": [
      "LIME explanations for the sample: \n"
     ]
    },
    {
     "data": {
      "image/png": "[encoded data removed]",
      "text/plain": [
       "<matplotlib.figure.Figure at 0x2918c2b2b38>"
      ]
     },
     "metadata": {
      "needs_background": "light"
     },
     "output_type": "display_data"
    }
   ],
   "source": [
    "find_lime_explanations_for(idx, fixed=True)"
   ]
  },
  {
   "cell_type": "code",
   "execution_count": null,
   "metadata": {},
   "outputs": [],
   "source": []
  }
 ],
 "metadata": {
  "kernelspec": {
   "display_name": "Python 3",
   "language": "python",
   "name": "python3"
  },
  "language_info": {
   "codemirror_mode": {
    "name": "ipython",
    "version": 3
   },
   "file_extension": ".py",
   "mimetype": "text/x-python",
   "name": "python",
   "nbconvert_exporter": "python",
   "pygments_lexer": "ipython3",
   "version": "3.6.7"
  }
 },
 "nbformat": 4,
 "nbformat_minor": 2
}
