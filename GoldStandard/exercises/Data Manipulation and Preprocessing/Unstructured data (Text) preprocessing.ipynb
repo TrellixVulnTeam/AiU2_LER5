{
 "cells": [
  {
   "cell_type": "code",
   "execution_count": 84,
   "metadata": {},
   "outputs": [
    {
     "name": "stderr",
     "output_type": "stream",
     "text": [
      "[nltk_data] Downloading package wordnet to\n",
      "[nltk_data]     C:\\Users\\sb14f\\AppData\\Roaming\\nltk_data...\n",
      "[nltk_data]   Package wordnet is already up-to-date!\n",
      "[nltk_data] Downloading package stopwords to\n",
      "[nltk_data]     C:\\Users\\sb14f\\AppData\\Roaming\\nltk_data...\n",
      "[nltk_data]   Package stopwords is already up-to-date!\n"
     ]
    }
   ],
   "source": [
    "%%capture \n",
    "import nltk\n",
    "nltk.download('wordnet')\n",
    "nltk.download('stopwords')\n",
    "\n",
    "from nltk.stem.snowball import SnowballStemmer\n",
    "from nltk.stem import WordNetLemmatizer\n",
    "from nltk.corpus import stopwords\n",
    "from nltk import word_tokenize"
   ]
  },
  {
   "cell_type": "code",
   "execution_count": 85,
   "metadata": {},
   "outputs": [],
   "source": [
    "def stem_text(text):\n",
    "    snowball = SnowballStemmer(language = 'english')    \n",
    "    processed_sentence_list = []\n",
    "    for sentence in text:\n",
    "        words_list = word_tokenize(sentence)\n",
    "        processed_words_list = [snowball.stem(word) for word in words_list]\n",
    "        # Form new sentence by joining processed words\n",
    "        new_sentence = \" \".join (processed_words_list)                \n",
    "        processed_sentence_list.append(new_sentence)\n",
    "        \n",
    "    return processed_sentence_list"
   ]
  },
  {
   "cell_type": "code",
   "execution_count": 86,
   "metadata": {},
   "outputs": [],
   "source": [
    "def lemmatize_text(text):\n",
    "    lemmatizer = WordNetLemmatizer() \n",
    "    processed_sentence_list = []\n",
    "    \n",
    "    for sentence in text:\n",
    "        words_list = word_tokenize(sentence)\n",
    "        processed_words_list = [lemmatizer.lemmatize(word, pos=\"v\") for word in words_list]\n",
    "        # Form new sentence by joining processed words\n",
    "        new_sentence = \" \".join (processed_words_list)        \n",
    "        processed_sentence_list.append(new_sentence)\n",
    "        \n",
    "    return processed_sentence_list"
   ]
  },
  {
   "cell_type": "code",
   "execution_count": 87,
   "metadata": {},
   "outputs": [],
   "source": [
    "def remove_stop_words(text, stopwords_list):\n",
    "    processed_sentence_list = []\n",
    "    stopwords_list = stopwords_list.words('english')\n",
    "    for sentence in text:\n",
    "        words_list = word_tokenize(sentence)\n",
    "        processed_words_list = [word for word in words_list if not word in stopwords_list]\n",
    "        new_sentence = \" \".join(processed_words_list)        \n",
    "        processed_sentence_list.append(new_sentence)\n",
    "        \n",
    "    return processed_sentence_list"
   ]
  },
  {
   "cell_type": "code",
   "execution_count": 88,
   "metadata": {},
   "outputs": [],
   "source": [
    "def tolower(text):\n",
    "    return [sentence.lower() for sentence in text]"
   ]
  },
  {
   "cell_type": "code",
   "execution_count": 89,
   "metadata": {},
   "outputs": [],
   "source": [
    "msg =  ['likes liked  likely', 'operate operating operates operation operative operatives operational', 'My name is Rohan Singh. What is yours']"
   ]
  },
  {
   "cell_type": "code",
   "execution_count": 90,
   "metadata": {},
   "outputs": [
    {
     "data": {
      "text/plain": [
       "['likes liked  likely',\n",
       " 'operate operating operates operation operative operatives operational',\n",
       " 'my name is rohan singh. what is yours']"
      ]
     },
     "execution_count": 90,
     "metadata": {},
     "output_type": "execute_result"
    }
   ],
   "source": [
    "msg = tolower(msg)\n",
    "msg"
   ]
  },
  {
   "cell_type": "code",
   "execution_count": 91,
   "metadata": {},
   "outputs": [
    {
     "data": {
      "text/plain": [
       "['like like like',\n",
       " 'oper oper oper oper oper oper oper',\n",
       " 'my name is rohan singh . what is your']"
      ]
     },
     "execution_count": 91,
     "metadata": {},
     "output_type": "execute_result"
    }
   ],
   "source": [
    "msg = stem_text(msg)\n",
    "msg"
   ]
  },
  {
   "cell_type": "code",
   "execution_count": 92,
   "metadata": {
    "scrolled": true
   },
   "outputs": [
    {
     "data": {
      "text/plain": [
       "['like like like',\n",
       " 'oper oper oper oper oper oper oper',\n",
       " 'my name be rohan singh . what be your']"
      ]
     },
     "execution_count": 92,
     "metadata": {},
     "output_type": "execute_result"
    }
   ],
   "source": [
    "msg = lemmatize_text(msg)\n",
    "msg"
   ]
  },
  {
   "cell_type": "code",
   "execution_count": 93,
   "metadata": {},
   "outputs": [
    {
     "data": {
      "text/plain": [
       "['like like like', 'oper oper oper oper oper oper oper', 'name rohan singh .']"
      ]
     },
     "execution_count": 93,
     "metadata": {},
     "output_type": "execute_result"
    }
   ],
   "source": [
    "msg = remove_stop_words(msg,stopwords)\n",
    "msg"
   ]
  },
  {
   "cell_type": "code",
   "execution_count": null,
   "metadata": {},
   "outputs": [],
   "source": []
  }
 ],
 "metadata": {
  "kernelspec": {
   "display_name": "Python 3",
   "language": "python",
   "name": "python3"
  },
  "language_info": {
   "codemirror_mode": {
    "name": "ipython",
    "version": 3
   },
   "file_extension": ".py",
   "mimetype": "text/x-python",
   "name": "python",
   "nbconvert_exporter": "python",
   "pygments_lexer": "ipython3",
   "version": "3.6.7"
  }
 },
 "nbformat": 4,
 "nbformat_minor": 2
}
